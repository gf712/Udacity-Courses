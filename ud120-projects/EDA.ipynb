{
 "cells": [
  {
   "cell_type": "code",
   "execution_count": 1,
   "metadata": {
    "collapsed": true
   },
   "outputs": [],
   "source": [
    "import pickle\n",
    "\n",
    "enron_data = pickle.load(open('./final_project/final_project_dataset.pkl', \"rb\"))"
   ]
  },
  {
   "cell_type": "markdown",
   "metadata": {},
   "source": [
    "The “poi” feature records whether the person is a person of interest, according to our definition. How many POIs are there in the E+F dataset?"
   ]
  },
  {
   "cell_type": "code",
   "execution_count": 23,
   "metadata": {
    "collapsed": false
   },
   "outputs": [],
   "source": [
    "poi = [k for k, v in enron_data.items() if v['poi']==1]"
   ]
  },
  {
   "cell_type": "code",
   "execution_count": 24,
   "metadata": {
    "collapsed": false,
    "scrolled": true
   },
   "outputs": [
    {
     "name": "stdout",
     "output_type": "stream",
     "text": [
      "Answer: 18\n"
     ]
    }
   ],
   "source": [
    "print('Answer: {}'.format(len(poi)))"
   ]
  },
  {
   "cell_type": "markdown",
   "metadata": {},
   "source": [
    "How many POI’s were there total? (Use the names file, not the email addresses, since many folks have more than one address and a few didn’t work for Enron, so we don’t have their emails.)"
   ]
  },
  {
   "cell_type": "code",
   "execution_count": 4,
   "metadata": {
    "collapsed": false
   },
   "outputs": [],
   "source": [
    "with open('./final_project/poi_names.txt', 'r') as f:\n",
    "    poi_names = f.readlines()"
   ]
  },
  {
   "cell_type": "code",
   "execution_count": 5,
   "metadata": {
    "collapsed": false
   },
   "outputs": [
    {
     "name": "stdout",
     "output_type": "stream",
     "text": [
      "Answer: 35\n"
     ]
    }
   ],
   "source": [
    "## first line has a url and second line is blank\n",
    "print('Answer: {}'.format(len(poi_names[2:])))"
   ]
  },
  {
   "cell_type": "markdown",
   "metadata": {},
   "source": [
    "What is the total value of the stock belonging to James Prentice?"
   ]
  },
  {
   "cell_type": "code",
   "execution_count": 6,
   "metadata": {
    "collapsed": false
   },
   "outputs": [
    {
     "name": "stdout",
     "output_type": "stream",
     "text": [
      "Answer: 1095040\n"
     ]
    }
   ],
   "source": [
    "print('Answer: {}'.format(enron_data['PRENTICE JAMES']['total_stock_value']))"
   ]
  },
  {
   "cell_type": "markdown",
   "metadata": {},
   "source": [
    "How many email messages do we have from Wesley Colwell to persons of interest?"
   ]
  },
  {
   "cell_type": "code",
   "execution_count": 7,
   "metadata": {
    "collapsed": false
   },
   "outputs": [
    {
     "name": "stdout",
     "output_type": "stream",
     "text": [
      "Answer: 11\n"
     ]
    }
   ],
   "source": [
    "print('Answer: {}'.format(enron_data['COLWELL WESLEY']['from_this_person_to_poi']))"
   ]
  },
  {
   "cell_type": "markdown",
   "metadata": {},
   "source": [
    "What’s the value of stock options exercised by Jeffrey K Skilling?"
   ]
  },
  {
   "cell_type": "code",
   "execution_count": 8,
   "metadata": {
    "collapsed": false
   },
   "outputs": [
    {
     "name": "stdout",
     "output_type": "stream",
     "text": [
      "Answer: 19250000\n"
     ]
    }
   ],
   "source": [
    "print('Answer: {}'.format(enron_data['SKILLING JEFFREY K']['exercised_stock_options']))"
   ]
  },
  {
   "cell_type": "markdown",
   "metadata": {},
   "source": [
    "Of these three individuals (Lay, Skilling and Fastow), who took home the most money (largest value of “total_payments” feature)?"
   ]
  },
  {
   "cell_type": "code",
   "execution_count": 9,
   "metadata": {
    "collapsed": true
   },
   "outputs": [],
   "source": [
    "ind = ['LAY KENNETH L', 'SKILLING JEFFREY K', 'FASTOW ANDREW S']"
   ]
  },
  {
   "cell_type": "code",
   "execution_count": 10,
   "metadata": {
    "collapsed": true
   },
   "outputs": [],
   "source": [
    "ind_money = [(x, enron_data[x]['total_payments']) for x in ind]"
   ]
  },
  {
   "cell_type": "code",
   "execution_count": 11,
   "metadata": {
    "collapsed": false
   },
   "outputs": [
    {
     "data": {
      "text/plain": [
       "[('LAY KENNETH L', 103559793),\n",
       " ('SKILLING JEFFREY K', 8682716),\n",
       " ('FASTOW ANDREW S', 2424083)]"
      ]
     },
     "execution_count": 11,
     "metadata": {},
     "output_type": "execute_result"
    }
   ],
   "source": [
    "ind_money"
   ]
  },
  {
   "cell_type": "markdown",
   "metadata": {},
   "source": [
    "How many folks in this dataset have a quantified salary? What about a known email address?"
   ]
  },
  {
   "cell_type": "code",
   "execution_count": 12,
   "metadata": {
    "collapsed": false
   },
   "outputs": [
    {
     "name": "stdout",
     "output_type": "stream",
     "text": [
      "Answer: 95\n",
      "Answer: 111\n"
     ]
    }
   ],
   "source": [
    "print('Answer: {}'.format(sum([0 if enron_data[x]['salary']=='NaN' else 1 for x in enron_data])))\n",
    "print('Answer: {}'.format(sum([0 if enron_data[x]['email_address']=='NaN' else 1 for x in enron_data])))"
   ]
  },
  {
   "cell_type": "code",
   "execution_count": 13,
   "metadata": {
    "collapsed": false
   },
   "outputs": [],
   "source": [
    "from tools.feature_format import featureFormat, targetFeatureSplit"
   ]
  },
  {
   "cell_type": "markdown",
   "metadata": {},
   "source": [
    "How many people in the E+F dataset (as it currently exists) have “NaN” for their total payments? What percentage of people in the dataset as a whole is this?"
   ]
  },
  {
   "cell_type": "code",
   "execution_count": 15,
   "metadata": {
    "collapsed": false
   },
   "outputs": [
    {
     "name": "stdout",
     "output_type": "stream",
     "text": [
      "Answer: 21\n",
      "Answer: 14.38%\n"
     ]
    }
   ],
   "source": [
    "print('Answer: {}'.format(sum([1 if enron_data[x]['total_payments']=='NaN' else 0 for x in enron_data])))\n",
    "print('Answer: {:.2f}%'.format(sum([1 if enron_data[x]['total_payments']=='NaN' else 0 for x in enron_data]) / len(enron_data) * 100))"
   ]
  },
  {
   "cell_type": "markdown",
   "metadata": {
    "collapsed": true
   },
   "source": [
    "How many POIs in the E+F dataset have “NaN” for their total payments? What percentage of POI’s as a whole is this?"
   ]
  },
  {
   "cell_type": "code",
   "execution_count": 26,
   "metadata": {
    "collapsed": false
   },
   "outputs": [
    {
     "name": "stdout",
     "output_type": "stream",
     "text": [
      "Answer: 0\n",
      "Answer: 0.00%\n"
     ]
    }
   ],
   "source": [
    "print('Answer: {}'.format(sum([1 if enron_data[x]['total_payments']=='NaN' else 0 for x in poi])))\n",
    "print('Answer: {:.2f}%'.format(sum([1 if enron_data[x]['total_payments']=='NaN' else 0 for x in poi]) / len(poi) * 100))"
   ]
  },
  {
   "cell_type": "markdown",
   "metadata": {},
   "source": [
    "If you added in, say, 10 more data points which were all POI’s, and put “NaN” for the total payments for those folks, the numbers you just calculated would change.\n",
    "\n",
    "What is the new number of people of the dataset? What is the new number of folks with “NaN” for total payments?"
   ]
  },
  {
   "cell_type": "code",
   "execution_count": 31,
   "metadata": {
    "collapsed": false
   },
   "outputs": [
    {
     "name": "stdout",
     "output_type": "stream",
     "text": [
      "Answer: 156\n",
      "Answer: 31\n"
     ]
    }
   ],
   "source": [
    "print('Answer: {}'.format(len(enron_data) + 10))\n",
    "print('Answer: {}'.format(sum([1 if enron_data[x]['total_payments']=='NaN' else 0 for x in enron_data]) + 10))"
   ]
  },
  {
   "cell_type": "markdown",
   "metadata": {},
   "source": [
    "What is the new number of POI’s in the dataset? What is the new number of POI’s with NaN for total_payments?"
   ]
  },
  {
   "cell_type": "code",
   "execution_count": 34,
   "metadata": {
    "collapsed": false
   },
   "outputs": [
    {
     "name": "stdout",
     "output_type": "stream",
     "text": [
      "Answer: 28\n",
      "Answer: 35.71%\n"
     ]
    }
   ],
   "source": [
    "print('Answer: {}'.format(len(poi) + 10))\n",
    "print('Answer: {:.2f}%'.format((sum([1 if enron_data[x]['total_payments']=='NaN' else 0 for x in poi]) + 10) \n",
    "                               / (len(poi) + 10) * 100))"
   ]
  },
  {
   "cell_type": "code",
   "execution_count": null,
   "metadata": {
    "collapsed": true
   },
   "outputs": [],
   "source": []
  }
 ],
 "metadata": {
  "anaconda-cloud": {},
  "kernelspec": {
   "display_name": "Python [conda root]",
   "language": "python",
   "name": "conda-root-py"
  },
  "language_info": {
   "codemirror_mode": {
    "name": "ipython",
    "version": 3
   },
   "file_extension": ".py",
   "mimetype": "text/x-python",
   "name": "python",
   "nbconvert_exporter": "python",
   "pygments_lexer": "ipython3",
   "version": "3.5.2"
  }
 },
 "nbformat": 4,
 "nbformat_minor": 2
}
